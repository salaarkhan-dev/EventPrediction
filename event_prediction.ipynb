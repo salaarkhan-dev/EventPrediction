{
  "nbformat": 4,
  "nbformat_minor": 0,
  "metadata": {
    "colab": {
      "name": "end-to-end-event-prediction_v1.2.ipynb",
      "provenance": [],
      "collapsed_sections": []
    },
    "kernelspec": {
      "name": "python3",
      "display_name": "Python 3"
    },
    "accelerator": "GPU"
  },
  "cells": [
    {
      "cell_type": "markdown",
      "metadata": {
        "id": "bfqCAE7mSh0v",
        "colab_type": "text"
      },
      "source": [
        "# Deep Learning - Event Prediction Multi Class Classification Project\n",
        "\n",
        "## The Data\n",
        "we'll be using data from the [Kaggle Event Prediction](https://github.com/chang/Allstate-Event-Prediction-Hackathon/tree/master/data). \n",
        "\n",
        "## Data\n",
        "* id: Unique identifier\n",
        "* timestamp: Global timestamp\n",
        "* event: Event code (10 total)\n",
        "\n",
        "\n",
        "\n",
        "This kind of problem is called multi-class classification. It's multi-class because we're trying to predict multiple events."
      ]
    },
    {
      "cell_type": "markdown",
      "metadata": {
        "id": "focgvc-0A_of",
        "colab_type": "text"
      },
      "source": [
        "## 1. Problem Definition\n",
        "In our case, the problem we will be exploring is **multi classification** (a sample that have multiple classes). \n",
        "\n",
        "In a statement,\n",
        "\n",
        "> Given a sequence of events, can we predict what event is coming next?\n",
        "\n",
        "## 2. Data\n",
        "\n",
        "The original data came from the [Kaggle Event Prediction](https://www.kaggle.com/c/allstate-event-prediction-challenge/data)(https://github.com/chang/Allstate-Event-Prediction-Hackathon/tree/master/data).\n",
        "\n",
        "unfortunately, the data is not found on Kaggle anymore. Howevever, we've downloaded from [Github](https://github.com/chang/Allstate-Event-Prediction-Hackathon/tree/master/data).\n",
        "\n",
        "The original database contains 3 attributes, **Attributes** (also called **features**) are the variables what we'll use to predict our **target variable**.\n",
        "\n",
        "\n",
        "## 3. Evaluation\n",
        "\n",
        "In a statement,\n",
        "\n",
        "> The evaluation metric is Multiclass Log-loss. A lower score indicates better performance.\n",
        "\n",
        "## 4. Features\n",
        "\n",
        "Features are different parts of the data. During this step, you'll want to start finding out what you can about the data.\n",
        "\n",
        "One of the most common ways to do this, is to create a **data dictionary**.\n",
        "\n",
        "### All state Event Data Dictionary\n",
        "\n",
        "* id: Unique identifier\n",
        "* timestamp: Global timestamp\n",
        "* event: Event code (10 total)\n",
        "\n",
        "## 5. Modelling\n"
      ]
    },
    {
      "cell_type": "markdown",
      "metadata": {
        "id": "jtrMyf8cUPi-",
        "colab_type": "text"
      },
      "source": [
        "## Getting our workspace ready\n",
        "\n",
        "Before we get started, since we'll be using TensorFlow 2.x, let's import them.\n",
        "\n",
        "**NOTE:** Do not run the cell underneath\n",
        "if you already use TF 2.x.\n",
        "Running this notebook on the Google Colab is recommended\n",
        "because they support GPU that makes our model train faster. "
      ]
    },
    {
      "cell_type": "code",
      "metadata": {
        "id": "zhdiprnoRH2u",
        "colab_type": "code",
        "colab": {}
      },
      "source": [
        "# Import TF 2.x\n",
        "try:\n",
        "  # %tensorflow_version only exists in Colab\n",
        "  %tensorflow_version 2.x\n",
        "except Exception:\n",
        "  pass"
      ],
      "execution_count": null,
      "outputs": []
    },
    {
      "cell_type": "markdown",
      "metadata": {
        "id": "31bvuvF6U0MA",
        "colab_type": "text"
      },
      "source": [
        "Let's run some import statements. And check whether or not we're using a GPU."
      ]
    },
    {
      "cell_type": "code",
      "metadata": {
        "id": "e-Hnu4cxUg3A",
        "colab_type": "code",
        "colab": {
          "base_uri": "https://localhost:8080/",
          "height": 54
        },
        "outputId": "13adb144-4919-4620-ed7b-680f90c41c33"
      },
      "source": [
        "import tensorflow as tf\n",
        "\n",
        "print(\"TF version:\", tf.__version__)\n",
        "\n",
        "# Check for GPU\n",
        "print(\"GPU\", \"available (YESS!!!!)\" if tf.config.list_physical_devices(\"GPU\") else \"not available :(\")"
      ],
      "execution_count": null,
      "outputs": [
        {
          "output_type": "stream",
          "text": [
            "TF version: 2.2.0\n",
            "GPU available (YESS!!!!)\n"
          ],
          "name": "stdout"
        }
      ]
    },
    {
      "cell_type": "markdown",
      "metadata": {
        "id": "HTC3oMUsVChK",
        "colab_type": "text"
      },
      "source": [
        "Importing the Useful libraries"
      ]
    },
    {
      "cell_type": "code",
      "metadata": {
        "id": "JLQJzuiVExhc",
        "colab_type": "code",
        "colab": {
          "base_uri": "https://localhost:8080/",
          "height": 92
        },
        "outputId": "cb044234-dc09-4846-a04f-c7cc8de0d90f"
      },
      "source": [
        "# Regular Explorartory Data Analysis(EDA) and plotting libraries\n",
        "import numpy as np # np is short for numpy\n",
        "import pandas as pd # pandas is so commonly used, it's shortened to pd\n",
        "import matplotlib.pyplot as plt\n",
        "import seaborn as sns # seaborn gets shortened to sns\n",
        "\n",
        "# We want our plots to appear in the notebook\n",
        "%matplotlib inline \n",
        "\n",
        "# Libraries for Data Preprocessing\n",
        "from sklearn.preprocessing import MinMaxScaler\n",
        "from keras.preprocessing import sequence\n",
        "from sklearn.model_selection import train_test_split\n",
        "\n",
        "# For Making our Neural Network Layers and Models\n",
        "from keras.layers.embeddings import Embedding\n",
        "from tensorflow.keras.models import Sequential\n",
        "from tensorflow.keras.layers import Dense,LSTM,Embedding,SpatialDropout1D,Dropout,SimpleRNN\n",
        "\n",
        "# Callback\n",
        "from tensorflow.keras.callbacks import EarlyStopping\n",
        "\n",
        "# Misc. Libraries\n",
        "import os, datetime"
      ],
      "execution_count": null,
      "outputs": [
        {
          "output_type": "stream",
          "text": [
            "/usr/local/lib/python3.6/dist-packages/statsmodels/tools/_testing.py:19: FutureWarning: pandas.util.testing is deprecated. Use the functions in the public API at pandas.testing instead.\n",
            "  import pandas.util.testing as tm\n",
            "Using TensorFlow backend.\n"
          ],
          "name": "stderr"
        }
      ]
    },
    {
      "cell_type": "markdown",
      "metadata": {
        "id": "Yyy-QDE8SycO",
        "colab_type": "text"
      },
      "source": [
        "## Load Data\n",
        "\n",
        "**Note**: Please set the path where your ```train.csv``` is\n",
        "located if the cell below is giving an error. "
      ]
    },
    {
      "cell_type": "code",
      "metadata": {
        "id": "srAo43-yVTAN",
        "colab_type": "code",
        "colab": {}
      },
      "source": [
        "# reading the train.csv file into the Dataframe\n",
        "df = pd.read_csv('/content/drive/My Drive/EventPrediction/train.csv')"
      ],
      "execution_count": null,
      "outputs": []
    },
    {
      "cell_type": "code",
      "metadata": {
        "id": "TOzBWWwPckHF",
        "colab_type": "code",
        "colab": {
          "base_uri": "https://localhost:8080/",
          "height": 206
        },
        "outputId": "6491a677-74be-4a80-ed80-d6526f9fb58e"
      },
      "source": [
        "df.head()"
      ],
      "execution_count": null,
      "outputs": [
        {
          "output_type": "execute_result",
          "data": {
            "text/html": [
              "<div>\n",
              "<style scoped>\n",
              "    .dataframe tbody tr th:only-of-type {\n",
              "        vertical-align: middle;\n",
              "    }\n",
              "\n",
              "    .dataframe tbody tr th {\n",
              "        vertical-align: top;\n",
              "    }\n",
              "\n",
              "    .dataframe thead th {\n",
              "        text-align: right;\n",
              "    }\n",
              "</style>\n",
              "<table border=\"1\" class=\"dataframe\">\n",
              "  <thead>\n",
              "    <tr style=\"text-align: right;\">\n",
              "      <th></th>\n",
              "      <th>id</th>\n",
              "      <th>timestamp</th>\n",
              "      <th>event</th>\n",
              "    </tr>\n",
              "  </thead>\n",
              "  <tbody>\n",
              "    <tr>\n",
              "      <th>0</th>\n",
              "      <td>00005408fb82819bf6eef036180ce1d28ca64ac4553788...</td>\n",
              "      <td>1</td>\n",
              "      <td>36003</td>\n",
              "    </tr>\n",
              "    <tr>\n",
              "      <th>1</th>\n",
              "      <td>00005408fb82819bf6eef036180ce1d28ca64ac4553788...</td>\n",
              "      <td>2</td>\n",
              "      <td>36003</td>\n",
              "    </tr>\n",
              "    <tr>\n",
              "      <th>2</th>\n",
              "      <td>00005408fb82819bf6eef036180ce1d28ca64ac4553788...</td>\n",
              "      <td>3</td>\n",
              "      <td>30018</td>\n",
              "    </tr>\n",
              "    <tr>\n",
              "      <th>3</th>\n",
              "      <td>00005408fb82819bf6eef036180ce1d28ca64ac4553788...</td>\n",
              "      <td>4</td>\n",
              "      <td>36003</td>\n",
              "    </tr>\n",
              "    <tr>\n",
              "      <th>4</th>\n",
              "      <td>000061e45fb216f4ad7fbc0cd86f620441a3091005eeb6...</td>\n",
              "      <td>5</td>\n",
              "      <td>30021</td>\n",
              "    </tr>\n",
              "  </tbody>\n",
              "</table>\n",
              "</div>"
            ],
            "text/plain": [
              "                                                  id  timestamp  event\n",
              "0  00005408fb82819bf6eef036180ce1d28ca64ac4553788...          1  36003\n",
              "1  00005408fb82819bf6eef036180ce1d28ca64ac4553788...          2  36003\n",
              "2  00005408fb82819bf6eef036180ce1d28ca64ac4553788...          3  30018\n",
              "3  00005408fb82819bf6eef036180ce1d28ca64ac4553788...          4  36003\n",
              "4  000061e45fb216f4ad7fbc0cd86f620441a3091005eeb6...          5  30021"
            ]
          },
          "metadata": {
            "tags": []
          },
          "execution_count": 4
        }
      ]
    },
    {
      "cell_type": "markdown",
      "metadata": {
        "id": "yz8ReDMUS8-w",
        "colab_type": "text"
      },
      "source": [
        "## Data Exploration (exploratory data analysis or EDA)\n",
        "\n",
        "Let's check out the Total Number of classes or events do we have."
      ]
    },
    {
      "cell_type": "code",
      "metadata": {
        "id": "eZiPHj6BP4K-",
        "colab_type": "code",
        "colab": {
          "base_uri": "https://localhost:8080/",
          "height": 219
        },
        "outputId": "f2cc7944-9ab5-4149-aaea-c65d765f60a2"
      },
      "source": [
        "# Displaying different classes\n",
        "df.event.value_counts()"
      ],
      "execution_count": null,
      "outputs": [
        {
          "output_type": "execute_result",
          "data": {
            "text/plain": [
              "30018    262403\n",
              "30021    258178\n",
              "36003    252137\n",
              "30024    113500\n",
              "30027    101509\n",
              "30039     45249\n",
              "30042     42273\n",
              "45003     25706\n",
              "30045     14497\n",
              "30048      6555\n",
              "Name: event, dtype: int64"
            ]
          },
          "metadata": {
            "tags": []
          },
          "execution_count": 6
        }
      ]
    },
    {
      "cell_type": "markdown",
      "metadata": {
        "id": "04NCgBHcTUhT",
        "colab_type": "text"
      },
      "source": [
        "Hmm, that is hideous let's use\n",
        "the ```matplotlib``` to visually see them.\n",
        "This plot shows how many\n",
        "times each of the events happens."
      ]
    },
    {
      "cell_type": "code",
      "metadata": {
        "id": "dvq0jUTTQItx",
        "colab_type": "code",
        "colab": {
          "base_uri": "https://localhost:8080/",
          "height": 303
        },
        "outputId": "d99a810e-a87d-431a-c342-a22d9980b252"
      },
      "source": [
        "# Making the bar plot\n",
        "df['event'].value_counts().sort_values(ascending=False).plot(kind='bar')\n",
        "# Setting the ylabel\n",
        "plt.ylabel('Number of Events') \n",
        "# Setting the Title\n",
        "plt.title('Number Events');"
      ],
      "execution_count": null,
      "outputs": [
        {
          "output_type": "display_data",
          "data": {
            "image/png": "[encoded data removed]",
            "text/plain": [
              "<Figure size 432x288 with 1 Axes>"
            ]
          },
          "metadata": {
            "tags": [],
            "needs_background": "light"
          }
        }
      ]
    },
    {
      "cell_type": "markdown",
      "metadata": {
        "id": "4w7Y9NO5UA3n",
        "colab_type": "text"
      },
      "source": [
        "Hmm, now we see the number of events\n",
        "clearly, let's test the plot on the distribution now.\n",
        "Once its graphed, the data is organized in a series\n",
        "to display how the points are spread around the series.\n",
        "Such distributions demonstrate the distribution\n",
        "of the data (dispersion, variability, scatter). "
      ]
    },
    {
      "cell_type": "code",
      "metadata": {
        "id": "D5R0FnrW4AeL",
        "colab_type": "code",
        "colab": {
          "base_uri": "https://localhost:8080/",
          "height": 352
        },
        "outputId": "c67a8e20-d52c-4052-8681-c2c0c5037141"
      },
      "source": [
        "# Setting the plot size\n",
        "plt.figure(figsize=(12, 5))\n",
        "sns.distplot(df['event'])"
      ],
      "execution_count": null,
      "outputs": [
        {
          "output_type": "execute_result",
          "data": {
            "text/plain": [
              "<matplotlib.axes._subplots.AxesSubplot at 0x7f98b6a2c710>"
            ]
          },
          "metadata": {
            "tags": []
          },
          "execution_count": 5
        },
        {
          "output_type": "display_data",
          "data": {
            "image/png": "[encoded data removed]",
            "text/plain": [
              "<Figure size 864x360 with 1 Axes>"
            ]
          },
          "metadata": {
            "tags": [],
            "needs_background": "light"
          }
        }
      ]
    },
    {
      "cell_type": "markdown",
      "metadata": {
        "id": "unSJdmt5UWbr",
        "colab_type": "text"
      },
      "source": [
        "We conclude that our data is not sufficient enough\n",
        "to know and forecast events by looking at the distributions.\n",
        "\n",
        "\n",
        "But, again recalling that we need to test our model of deep learning on **Multi-Class Loss Metric** means that a lower score indicates that we are close to our achievement. "
      ]
    },
    {
      "cell_type": "markdown",
      "metadata": {
        "id": "AQuh0JSHDE7M",
        "colab_type": "text"
      },
      "source": [
        "Countplot shows the counts of events in each categorical bin using bars."
      ]
    },
    {
      "cell_type": "code",
      "metadata": {
        "id": "S_mzBVXI4h2_",
        "colab_type": "code",
        "colab": {
          "base_uri": "https://localhost:8080/",
          "height": 297
        },
        "outputId": "fb66a215-e5d7-4607-f184-9f481e861110"
      },
      "source": [
        "sns.countplot(x='event',data=df)"
      ],
      "execution_count": null,
      "outputs": [
        {
          "output_type": "execute_result",
          "data": {
            "text/plain": [
              "<matplotlib.axes._subplots.AxesSubplot at 0x7f3e6f2272b0>"
            ]
          },
          "metadata": {
            "tags": []
          },
          "execution_count": 122
        },
        {
          "output_type": "display_data",
          "data": {
            "image/png": "[encoded data removed]",
            "text/plain": [
              "<Figure size 432x288 with 1 Axes>"
            ]
          },
          "metadata": {
            "tags": [],
            "needs_background": "light"
          }
        }
      ]
    },
    {
      "cell_type": "markdown",
      "metadata": {
        "id": "jGY4SPxJVV3j",
        "colab_type": "text"
      },
      "source": [
        "Using seaborn let's show\n",
        "the entire data frame.\n",
        "A pairplot displays the pairwise\n",
        "relationships in a dataset. "
      ]
    },
    {
      "cell_type": "code",
      "metadata": {
        "id": "NZWeXgep5lCB",
        "colab_type": "code",
        "colab": {
          "base_uri": "https://localhost:8080/",
          "height": 424
        },
        "outputId": "7d630b8a-757f-41ff-8902-c44bf4812fa4"
      },
      "source": [
        "plt.figure(figsize=(12,8))\n",
        "sns.pairplot(df,hue=\"event\")"
      ],
      "execution_count": null,
      "outputs": [
        {
          "output_type": "execute_result",
          "data": {
            "text/plain": [
              "<seaborn.axisgrid.PairGrid at 0x7f3e637e7a58>"
            ]
          },
          "metadata": {
            "tags": []
          },
          "execution_count": 199
        },
        {
          "output_type": "display_data",
          "data": {
            "text/plain": [
              "<Figure size 864x576 with 0 Axes>"
            ]
          },
          "metadata": {
            "tags": []
          }
        },
        {
          "output_type": "display_data",
          "data": {
            "image/png": "[encoded data removed]",
            "text/plain": [
              "<Figure size 427.5x360 with 6 Axes>"
            ]
          },
          "metadata": {
            "tags": [],
            "needs_background": "light"
          }
        }
      ]
    },
    {
      "cell_type": "code",
      "metadata": {
        "id": "zuxzgMe9YtJt",
        "colab_type": "code",
        "colab": {
          "base_uri": "https://localhost:8080/",
          "height": 112
        },
        "outputId": "6f5caab8-e910-4bae-9579-76070488e7ba"
      },
      "source": [
        "# calculating some statistical data like percentile, mean and std of the numerical values\n",
        "df.describe().transpose()"
      ],
      "execution_count": null,
      "outputs": [
        {
          "output_type": "execute_result",
          "data": {
            "text/html": [
              "<div>\n",
              "<style scoped>\n",
              "    .dataframe tbody tr th:only-of-type {\n",
              "        vertical-align: middle;\n",
              "    }\n",
              "\n",
              "    .dataframe tbody tr th {\n",
              "        vertical-align: top;\n",
              "    }\n",
              "\n",
              "    .dataframe thead th {\n",
              "        text-align: right;\n",
              "    }\n",
              "</style>\n",
              "<table border=\"1\" class=\"dataframe\">\n",
              "  <thead>\n",
              "    <tr style=\"text-align: right;\">\n",
              "      <th></th>\n",
              "      <th>count</th>\n",
              "      <th>mean</th>\n",
              "      <th>std</th>\n",
              "      <th>min</th>\n",
              "      <th>25%</th>\n",
              "      <th>50%</th>\n",
              "      <th>75%</th>\n",
              "      <th>max</th>\n",
              "    </tr>\n",
              "  </thead>\n",
              "  <tbody>\n",
              "    <tr>\n",
              "      <th>timestamp</th>\n",
              "      <td>1122007.0</td>\n",
              "      <td>611470.464094</td>\n",
              "      <td>353053.760884</td>\n",
              "      <td>1.0</td>\n",
              "      <td>305591.5</td>\n",
              "      <td>611506.0</td>\n",
              "      <td>917257.5</td>\n",
              "      <td>1222877.0</td>\n",
              "    </tr>\n",
              "    <tr>\n",
              "      <th>event</th>\n",
              "      <td>1122007.0</td>\n",
              "      <td>31710.651044</td>\n",
              "      <td>3213.895816</td>\n",
              "      <td>30018.0</td>\n",
              "      <td>30021.0</td>\n",
              "      <td>30024.0</td>\n",
              "      <td>30048.0</td>\n",
              "      <td>45003.0</td>\n",
              "    </tr>\n",
              "  </tbody>\n",
              "</table>\n",
              "</div>"
            ],
            "text/plain": [
              "               count           mean  ...       75%        max\n",
              "timestamp  1122007.0  611470.464094  ...  917257.5  1222877.0\n",
              "event      1122007.0   31710.651044  ...   30048.0    45003.0\n",
              "\n",
              "[2 rows x 8 columns]"
            ]
          },
          "metadata": {
            "tags": []
          },
          "execution_count": 249
        }
      ]
    },
    {
      "cell_type": "markdown",
      "metadata": {
        "id": "4yUqR-wBY4rm",
        "colab_type": "text"
      },
      "source": [
        "### Correlation between independent variables\n",
        "\n",
        "Finally, we'll compare all of the independent variables in one hit.\n",
        "\n",
        "Why?\n",
        "\n",
        "Because this may give an idea of which independent variables may or may not have an impact on our target variable.\n",
        "\n",
        "We can do this using `df.corr()` which will create a [**correlation matrix**]"
      ]
    },
    {
      "cell_type": "code",
      "metadata": {
        "id": "mHyhvU-JY280",
        "colab_type": "code",
        "colab": {
          "base_uri": "https://localhost:8080/",
          "height": 112
        },
        "outputId": "1c8d125d-7fd9-494c-9acd-9d51bc293a31"
      },
      "source": [
        "df.corr()"
      ],
      "execution_count": null,
      "outputs": [
        {
          "output_type": "execute_result",
          "data": {
            "text/html": [
              "<div>\n",
              "<style scoped>\n",
              "    .dataframe tbody tr th:only-of-type {\n",
              "        vertical-align: middle;\n",
              "    }\n",
              "\n",
              "    .dataframe tbody tr th {\n",
              "        vertical-align: top;\n",
              "    }\n",
              "\n",
              "    .dataframe thead th {\n",
              "        text-align: right;\n",
              "    }\n",
              "</style>\n",
              "<table border=\"1\" class=\"dataframe\">\n",
              "  <thead>\n",
              "    <tr style=\"text-align: right;\">\n",
              "      <th></th>\n",
              "      <th>timestamp</th>\n",
              "      <th>event</th>\n",
              "    </tr>\n",
              "  </thead>\n",
              "  <tbody>\n",
              "    <tr>\n",
              "      <th>timestamp</th>\n",
              "      <td>1.000000</td>\n",
              "      <td>-0.000211</td>\n",
              "    </tr>\n",
              "    <tr>\n",
              "      <th>event</th>\n",
              "      <td>-0.000211</td>\n",
              "      <td>1.000000</td>\n",
              "    </tr>\n",
              "  </tbody>\n",
              "</table>\n",
              "</div>"
            ],
            "text/plain": [
              "           timestamp     event\n",
              "timestamp   1.000000 -0.000211\n",
              "event      -0.000211  1.000000"
            ]
          },
          "metadata": {
            "tags": []
          },
          "execution_count": 250
        }
      ]
    },
    {
      "cell_type": "markdown",
      "metadata": {
        "id": "51yGU05WZVxP",
        "colab_type": "text"
      },
      "source": [
        "Let's see visually"
      ]
    },
    {
      "cell_type": "code",
      "metadata": {
        "id": "jOevqrWeZJew",
        "colab_type": "code",
        "colab": {
          "base_uri": "https://localhost:8080/",
          "height": 287
        },
        "outputId": "a7e0611b-c660-4c7b-8bd8-d417c90a936b"
      },
      "source": [
        "#  Let's make it look a little prettier\n",
        "sns.heatmap(df.corr(),annot=True,cmap='viridis')"
      ],
      "execution_count": null,
      "outputs": [
        {
          "output_type": "execute_result",
          "data": {
            "text/plain": [
              "<matplotlib.axes._subplots.AxesSubplot at 0x7f6eec56cd30>"
            ]
          },
          "metadata": {
            "tags": []
          },
          "execution_count": 253
        },
        {
          "output_type": "display_data",
          "data": {
            "image/png": "[encoded data removed]",
            "text/plain": [
              "<Figure size 432x288 with 2 Axes>"
            ]
          },
          "metadata": {
            "tags": [],
            "needs_background": "light"
          }
        }
      ]
    },
    {
      "cell_type": "markdown",
      "metadata": {
        "id": "bj6s0Qx0Vo9D",
        "colab_type": "text"
      },
      "source": [
        "Let's check the values of dataframe to see what we have."
      ]
    },
    {
      "cell_type": "code",
      "metadata": {
        "id": "QcuwvXZvRkFR",
        "colab_type": "code",
        "colab": {
          "base_uri": "https://localhost:8080/",
          "height": 72
        },
        "outputId": "76aee635-a8ef-4bd3-f571-8bd4459bab70"
      },
      "source": [
        "# Example function\n",
        "def print_plot(index):\n",
        "  \"\"\"\n",
        "  Example function to Display the Dataframe Data of every index.\n",
        "  \"\"\"\n",
        "  example = df[df.index == index][['id','timestamp', 'event']].values[0]\n",
        "  if len(example) > 0:\n",
        "    print('id:',example[0])\n",
        "    print('Timestamp:',example[1])\n",
        "    print('Event:', example[2])\n",
        "print_plot(10)"
      ],
      "execution_count": null,
      "outputs": [
        {
          "output_type": "stream",
          "text": [
            "id: 0000b953a8b26886a7086673d8d1b7bd78efe139775728544a3cee2e7cf95a27\n",
            "Timestamp: 11\n",
            "Event: 30027\n"
          ],
          "name": "stdout"
        }
      ]
    },
    {
      "cell_type": "markdown",
      "metadata": {
        "id": "WyZBkG00WTdr",
        "colab_type": "text"
      },
      "source": [
        "Or more visuallly,"
      ]
    },
    {
      "cell_type": "code",
      "metadata": {
        "id": "mF-MbV0dWbTC",
        "colab_type": "code",
        "colab": {
          "base_uri": "https://localhost:8080/",
          "height": 206
        },
        "outputId": "5ab281b1-9fd9-43ee-cbfc-7590940ed0fe"
      },
      "source": [
        "# Display first 5 rows\n",
        "df.head()"
      ],
      "execution_count": null,
      "outputs": [
        {
          "output_type": "execute_result",
          "data": {
            "text/html": [
              "<div>\n",
              "<style scoped>\n",
              "    .dataframe tbody tr th:only-of-type {\n",
              "        vertical-align: middle;\n",
              "    }\n",
              "\n",
              "    .dataframe tbody tr th {\n",
              "        vertical-align: top;\n",
              "    }\n",
              "\n",
              "    .dataframe thead th {\n",
              "        text-align: right;\n",
              "    }\n",
              "</style>\n",
              "<table border=\"1\" class=\"dataframe\">\n",
              "  <thead>\n",
              "    <tr style=\"text-align: right;\">\n",
              "      <th></th>\n",
              "      <th>id</th>\n",
              "      <th>timestamp</th>\n",
              "      <th>event</th>\n",
              "    </tr>\n",
              "  </thead>\n",
              "  <tbody>\n",
              "    <tr>\n",
              "      <th>0</th>\n",
              "      <td>00005408fb82819bf6eef036180ce1d28ca64ac4553788...</td>\n",
              "      <td>1</td>\n",
              "      <td>36003</td>\n",
              "    </tr>\n",
              "    <tr>\n",
              "      <th>1</th>\n",
              "      <td>00005408fb82819bf6eef036180ce1d28ca64ac4553788...</td>\n",
              "      <td>2</td>\n",
              "      <td>36003</td>\n",
              "    </tr>\n",
              "    <tr>\n",
              "      <th>2</th>\n",
              "      <td>00005408fb82819bf6eef036180ce1d28ca64ac4553788...</td>\n",
              "      <td>3</td>\n",
              "      <td>30018</td>\n",
              "    </tr>\n",
              "    <tr>\n",
              "      <th>3</th>\n",
              "      <td>00005408fb82819bf6eef036180ce1d28ca64ac4553788...</td>\n",
              "      <td>4</td>\n",
              "      <td>36003</td>\n",
              "    </tr>\n",
              "    <tr>\n",
              "      <th>4</th>\n",
              "      <td>000061e45fb216f4ad7fbc0cd86f620441a3091005eeb6...</td>\n",
              "      <td>5</td>\n",
              "      <td>30021</td>\n",
              "    </tr>\n",
              "  </tbody>\n",
              "</table>\n",
              "</div>"
            ],
            "text/plain": [
              "                                                  id  timestamp  event\n",
              "0  00005408fb82819bf6eef036180ce1d28ca64ac4553788...          1  36003\n",
              "1  00005408fb82819bf6eef036180ce1d28ca64ac4553788...          2  36003\n",
              "2  00005408fb82819bf6eef036180ce1d28ca64ac4553788...          3  30018\n",
              "3  00005408fb82819bf6eef036180ce1d28ca64ac4553788...          4  36003\n",
              "4  000061e45fb216f4ad7fbc0cd86f620441a3091005eeb6...          5  30021"
            ]
          },
          "metadata": {
            "tags": []
          },
          "execution_count": 246
        }
      ]
    },
    {
      "cell_type": "markdown",
      "metadata": {
        "id": "5VWMr9cPWFAl",
        "colab_type": "text"
      },
      "source": [
        "Hmm, Let's see the little bit information about our Dataframe."
      ]
    },
    {
      "cell_type": "code",
      "metadata": {
        "id": "J0CSE5fhzqkl",
        "colab_type": "code",
        "colab": {
          "base_uri": "https://localhost:8080/",
          "height": 201
        },
        "outputId": "ceff8448-acfc-412d-f815-d1d1ee05896a"
      },
      "source": [
        "df.info()"
      ],
      "execution_count": null,
      "outputs": [
        {
          "output_type": "stream",
          "text": [
            "<class 'pandas.core.frame.DataFrame'>\n",
            "RangeIndex: 1122007 entries, 0 to 1122006\n",
            "Data columns (total 3 columns):\n",
            " #   Column     Non-Null Count    Dtype \n",
            "---  ------     --------------    ----- \n",
            " 0   id         1122007 non-null  object\n",
            " 1   timestamp  1122007 non-null  int64 \n",
            " 2   event      1122007 non-null  int64 \n",
            "dtypes: int64(2), object(1)\n",
            "memory usage: 25.7+ MB\n"
          ],
          "name": "stdout"
        }
      ]
    },
    {
      "cell_type": "markdown",
      "metadata": {
        "id": "-mXwzk0iWkpg",
        "colab_type": "text"
      },
      "source": [
        "oohhhh! so we have a huge collection of Data about ```11,220,07``` rows and 3 columns:\n",
        "\n",
        "* ```id``` (string)\n",
        "* ```timestamp``` (integer)\n",
        "* ```event``` (integer)"
      ]
    },
    {
      "cell_type": "markdown",
      "metadata": {
        "id": "mTLL4MueXei8",
        "colab_type": "text"
      },
      "source": [
        "Let's make a slider to set the number of data ```NUM_DATA``` to use for our experiment.\n",
        "\n",
        "We train on the small data if it works on it it wil definitly work on the big data but take a lot more GPU power and our precious time.\n",
        "\n",
        "So, lets now work on 100,000 rows."
      ]
    },
    {
      "cell_type": "code",
      "metadata": {
        "id": "PdrrVFwRtizc",
        "colab_type": "code",
        "colab": {
          "base_uri": "https://localhost:8080/",
          "height": 35
        },
        "outputId": "90c5643a-b42d-4a06-8de3-36ab193d3758"
      },
      "source": [
        "# Set number of DATA to use for experimenting\n",
        "NUM_DATA = 100000 #@param {type:\"slider\", min:1000, max:1122007, step:1000}\n",
        "NUM_DATA"
      ],
      "execution_count": null,
      "outputs": [
        {
          "output_type": "execute_result",
          "data": {
            "text/plain": [
              "100000"
            ]
          },
          "metadata": {
            "tags": []
          },
          "execution_count": 8
        }
      ]
    },
    {
      "cell_type": "code",
      "metadata": {
        "id": "zKAUiQmyuiI5",
        "colab_type": "code",
        "colab": {}
      },
      "source": [
        "# We define another temporary dataframe to work on it so we dont't have to mess with the original data\n",
        "df_tmp = df[:NUM_DATA]"
      ],
      "execution_count": null,
      "outputs": []
    },
    {
      "cell_type": "markdown",
      "metadata": {
        "id": "Kw8yAx1rYnDf",
        "colab_type": "text"
      },
      "source": [
        "## Data Preprocessing\n",
        "\n",
        "Alright, enough Data Analysis now let's preprocess our Data to make it ready for our NN model.\n",
        "\n",
        "Let's check the datatypes of each column."
      ]
    },
    {
      "cell_type": "code",
      "metadata": {
        "id": "rZGE6kMcbpfE",
        "colab_type": "code",
        "colab": {
          "base_uri": "https://localhost:8080/",
          "height": 90
        },
        "outputId": "957558cd-1589-4335-c567-b65b0b20296f"
      },
      "source": [
        "# Data types of each column\n",
        "df_tmp.dtypes"
      ],
      "execution_count": null,
      "outputs": [
        {
          "output_type": "execute_result",
          "data": {
            "text/plain": [
              "id           object\n",
              "timestamp     int64\n",
              "event         int64\n",
              "dtype: object"
            ]
          },
          "metadata": {
            "tags": []
          },
          "execution_count": 10
        }
      ]
    },
    {
      "cell_type": "markdown",
      "metadata": {
        "id": "bJsmpos0b4Oo",
        "colab_type": "text"
      },
      "source": [
        "So, we see that an ```id``` column have the string data type. As we know that a machine learning model will train on the numerical data. so we have to convert it into numerical form. \n",
        "\n",
        "There are many ways to turn our data into numerical.\n",
        "\n",
        "let's use the Vectorization method to **Vectorize** it so we can train it on our model later on. \n",
        "\n",
        "In verctorization method, we convert the series of words into numbers later on we pass these integers in the Embedding layer of our Neural Network Model.\n",
        "\n",
        "**Embedding Layer Functionality**: \n",
        "Turns positive integers (indexes) into dense vectors of fixed size.\n",
        "\n",
        "e.g. [[4], [20]] -> [[0.25, 0.1], [0.6, -0.2]]\n",
        "\n",
        "This layer can only be used as the first layer in a model."
      ]
    },
    {
      "cell_type": "code",
      "metadata": {
        "id": "MY-MDj6bTA-s",
        "colab_type": "code",
        "colab": {
          "base_uri": "https://localhost:8080/",
          "height": 35
        },
        "outputId": "f0e9163e-3f29-4a83-d597-88fcf3f81931"
      },
      "source": [
        "# The maximum number of words to be used. (most frequent)\n",
        "MAX_NB_WORDS = NUM_DATA\n",
        "\n",
        "# This is fixed for our Embedding Layer in NN model\n",
        "EMBEDDING_DIM = 100\n",
        "# Instantiate our tokenizer\n",
        "tokenizer = tf.keras.preprocessing.text.Tokenizer(num_words=MAX_NB_WORDS)\n",
        "# Fitting it on our id\n",
        "tokenizer.fit_on_texts(df_tmp['id'].values)\n",
        "# Finding the number words\n",
        "word_index = tokenizer.word_index\n",
        "print('Found %s unique tokens.' % len(word_index))"
      ],
      "execution_count": null,
      "outputs": [
        {
          "output_type": "stream",
          "text": [
            "Found 30035 unique tokens.\n"
          ],
          "name": "stdout"
        }
      ]
    },
    {
      "cell_type": "code",
      "metadata": {
        "id": "wHyA3K45T46Z",
        "colab_type": "code",
        "colab": {
          "base_uri": "https://localhost:8080/",
          "height": 35
        },
        "outputId": "8c835a6d-d8f3-4956-a5fc-ac252604d56c"
      },
      "source": [
        "# Change text to sequences\n",
        "encoded_id = tokenizer.texts_to_sequences(df_tmp['id'].values)\n",
        "# padding sequences\n",
        "encoded_id = tf.keras.preprocessing.sequence.pad_sequences(encoded_id)\n",
        "print('Shape of data tensor:', encoded_id.shape)"
      ],
      "execution_count": null,
      "outputs": [
        {
          "output_type": "stream",
          "text": [
            "Shape of data tensor: (100000, 1)\n"
          ],
          "name": "stdout"
        }
      ]
    },
    {
      "cell_type": "code",
      "metadata": {
        "id": "Bna24iax9p8T",
        "colab_type": "code",
        "colab": {
          "base_uri": "https://localhost:8080/",
          "height": 201
        },
        "outputId": "1f0f54ac-ef97-4f35-c5e1-c475ad05aae9"
      },
      "source": [
        "# converted strings\n",
        "encoded_id[:10]"
      ],
      "execution_count": null,
      "outputs": [
        {
          "output_type": "execute_result",
          "data": {
            "text/plain": [
              "array([[3570],\n",
              "       [3570],\n",
              "       [3570],\n",
              "       [3570],\n",
              "       [9263],\n",
              "       [9263],\n",
              "       [9263],\n",
              "       [9264],\n",
              "       [9264],\n",
              "       [9264]], dtype=int32)"
            ]
          },
          "metadata": {
            "tags": []
          },
          "execution_count": 140
        }
      ]
    },
    {
      "cell_type": "markdown",
      "metadata": {
        "id": "xPMut7HpdnSX",
        "colab_type": "text"
      },
      "source": [
        "Now our ```id``` is changes into the intergers"
      ]
    },
    {
      "cell_type": "code",
      "metadata": {
        "id": "oLgDsC_8eEuX",
        "colab_type": "code",
        "colab": {
          "base_uri": "https://localhost:8080/",
          "height": 35
        },
        "outputId": "4ffd08cf-7d8e-44e5-fadb-525168f83fdb"
      },
      "source": [
        "X = encoded_id\n",
        "print('Shape of label tensor:', X.shape)"
      ],
      "execution_count": null,
      "outputs": [
        {
          "output_type": "stream",
          "text": [
            "Shape of label tensor: (100000, 1)\n"
          ],
          "name": "stdout"
        }
      ]
    },
    {
      "cell_type": "markdown",
      "metadata": {
        "id": "eKW1A7dfdy3a",
        "colab_type": "text"
      },
      "source": [
        "One Hot encoding for our Events\n",
        "\n",
        "for e.g,\n",
        "\n",
        "![One Hot encoding Example](https://naadispeaks.files.wordpress.com/2018/04/mtimfxh.png?w=471&h=151)\n"
      ]
    },
    {
      "cell_type": "code",
      "metadata": {
        "id": "Ai1voziaIsLo",
        "colab_type": "code",
        "colab": {
          "base_uri": "https://localhost:8080/",
          "height": 424
        },
        "outputId": "c784c9bf-f278-48ed-fa7f-550e30b56720"
      },
      "source": [
        "# OneHot Encoding\n",
        "pd.get_dummies(df_tmp['event'])"
      ],
      "execution_count": null,
      "outputs": [
        {
          "output_type": "execute_result",
          "data": {
            "text/html": [
              "<div>\n",
              "<style scoped>\n",
              "    .dataframe tbody tr th:only-of-type {\n",
              "        vertical-align: middle;\n",
              "    }\n",
              "\n",
              "    .dataframe tbody tr th {\n",
              "        vertical-align: top;\n",
              "    }\n",
              "\n",
              "    .dataframe thead th {\n",
              "        text-align: right;\n",
              "    }\n",
              "</style>\n",
              "<table border=\"1\" class=\"dataframe\">\n",
              "  <thead>\n",
              "    <tr style=\"text-align: right;\">\n",
              "      <th></th>\n",
              "      <th>30018</th>\n",
              "      <th>30021</th>\n",
              "      <th>30024</th>\n",
              "      <th>30027</th>\n",
              "      <th>30039</th>\n",
              "      <th>30042</th>\n",
              "      <th>30045</th>\n",
              "      <th>30048</th>\n",
              "      <th>36003</th>\n",
              "      <th>45003</th>\n",
              "    </tr>\n",
              "  </thead>\n",
              "  <tbody>\n",
              "    <tr>\n",
              "      <th>0</th>\n",
              "      <td>0</td>\n",
              "      <td>0</td>\n",
              "      <td>0</td>\n",
              "      <td>0</td>\n",
              "      <td>0</td>\n",
              "      <td>0</td>\n",
              "      <td>0</td>\n",
              "      <td>0</td>\n",
              "      <td>1</td>\n",
              "      <td>0</td>\n",
              "    </tr>\n",
              "    <tr>\n",
              "      <th>1</th>\n",
              "      <td>0</td>\n",
              "      <td>0</td>\n",
              "      <td>0</td>\n",
              "      <td>0</td>\n",
              "      <td>0</td>\n",
              "      <td>0</td>\n",
              "      <td>0</td>\n",
              "      <td>0</td>\n",
              "      <td>1</td>\n",
              "      <td>0</td>\n",
              "    </tr>\n",
              "    <tr>\n",
              "      <th>2</th>\n",
              "      <td>1</td>\n",
              "      <td>0</td>\n",
              "      <td>0</td>\n",
              "      <td>0</td>\n",
              "      <td>0</td>\n",
              "      <td>0</td>\n",
              "      <td>0</td>\n",
              "      <td>0</td>\n",
              "      <td>0</td>\n",
              "      <td>0</td>\n",
              "    </tr>\n",
              "    <tr>\n",
              "      <th>3</th>\n",
              "      <td>0</td>\n",
              "      <td>0</td>\n",
              "      <td>0</td>\n",
              "      <td>0</td>\n",
              "      <td>0</td>\n",
              "      <td>0</td>\n",
              "      <td>0</td>\n",
              "      <td>0</td>\n",
              "      <td>1</td>\n",
              "      <td>0</td>\n",
              "    </tr>\n",
              "    <tr>\n",
              "      <th>4</th>\n",
              "      <td>0</td>\n",
              "      <td>1</td>\n",
              "      <td>0</td>\n",
              "      <td>0</td>\n",
              "      <td>0</td>\n",
              "      <td>0</td>\n",
              "      <td>0</td>\n",
              "      <td>0</td>\n",
              "      <td>0</td>\n",
              "      <td>0</td>\n",
              "    </tr>\n",
              "    <tr>\n",
              "      <th>...</th>\n",
              "      <td>...</td>\n",
              "      <td>...</td>\n",
              "      <td>...</td>\n",
              "      <td>...</td>\n",
              "      <td>...</td>\n",
              "      <td>...</td>\n",
              "      <td>...</td>\n",
              "      <td>...</td>\n",
              "      <td>...</td>\n",
              "      <td>...</td>\n",
              "    </tr>\n",
              "    <tr>\n",
              "      <th>99995</th>\n",
              "      <td>1</td>\n",
              "      <td>0</td>\n",
              "      <td>0</td>\n",
              "      <td>0</td>\n",
              "      <td>0</td>\n",
              "      <td>0</td>\n",
              "      <td>0</td>\n",
              "      <td>0</td>\n",
              "      <td>0</td>\n",
              "      <td>0</td>\n",
              "    </tr>\n",
              "    <tr>\n",
              "      <th>99996</th>\n",
              "      <td>1</td>\n",
              "      <td>0</td>\n",
              "      <td>0</td>\n",
              "      <td>0</td>\n",
              "      <td>0</td>\n",
              "      <td>0</td>\n",
              "      <td>0</td>\n",
              "      <td>0</td>\n",
              "      <td>0</td>\n",
              "      <td>0</td>\n",
              "    </tr>\n",
              "    <tr>\n",
              "      <th>99997</th>\n",
              "      <td>0</td>\n",
              "      <td>1</td>\n",
              "      <td>0</td>\n",
              "      <td>0</td>\n",
              "      <td>0</td>\n",
              "      <td>0</td>\n",
              "      <td>0</td>\n",
              "      <td>0</td>\n",
              "      <td>0</td>\n",
              "      <td>0</td>\n",
              "    </tr>\n",
              "    <tr>\n",
              "      <th>99998</th>\n",
              "      <td>0</td>\n",
              "      <td>0</td>\n",
              "      <td>0</td>\n",
              "      <td>1</td>\n",
              "      <td>0</td>\n",
              "      <td>0</td>\n",
              "      <td>0</td>\n",
              "      <td>0</td>\n",
              "      <td>0</td>\n",
              "      <td>0</td>\n",
              "    </tr>\n",
              "    <tr>\n",
              "      <th>99999</th>\n",
              "      <td>0</td>\n",
              "      <td>0</td>\n",
              "      <td>0</td>\n",
              "      <td>0</td>\n",
              "      <td>0</td>\n",
              "      <td>1</td>\n",
              "      <td>0</td>\n",
              "      <td>0</td>\n",
              "      <td>0</td>\n",
              "      <td>0</td>\n",
              "    </tr>\n",
              "  </tbody>\n",
              "</table>\n",
              "<p>100000 rows × 10 columns</p>\n",
              "</div>"
            ],
            "text/plain": [
              "       30018  30021  30024  30027  30039  30042  30045  30048  36003  45003\n",
              "0          0      0      0      0      0      0      0      0      1      0\n",
              "1          0      0      0      0      0      0      0      0      1      0\n",
              "2          1      0      0      0      0      0      0      0      0      0\n",
              "3          0      0      0      0      0      0      0      0      1      0\n",
              "4          0      1      0      0      0      0      0      0      0      0\n",
              "...      ...    ...    ...    ...    ...    ...    ...    ...    ...    ...\n",
              "99995      1      0      0      0      0      0      0      0      0      0\n",
              "99996      1      0      0      0      0      0      0      0      0      0\n",
              "99997      0      1      0      0      0      0      0      0      0      0\n",
              "99998      0      0      0      1      0      0      0      0      0      0\n",
              "99999      0      0      0      0      0      1      0      0      0      0\n",
              "\n",
              "[100000 rows x 10 columns]"
            ]
          },
          "metadata": {
            "tags": []
          },
          "execution_count": 11
        }
      ]
    },
    {
      "cell_type": "code",
      "metadata": {
        "id": "XNBLNu0RUxI1",
        "colab_type": "code",
        "colab": {
          "base_uri": "https://localhost:8080/",
          "height": 35
        },
        "outputId": "64979116-58b7-4d66-d145-64b5276aaf9c"
      },
      "source": [
        "Y = pd.get_dummies(df_tmp['event']).values\n",
        "print('Shape of feature tensor:', Y.shape)"
      ],
      "execution_count": null,
      "outputs": [
        {
          "output_type": "stream",
          "text": [
            "Shape of feature tensor: (100000, 10)\n"
          ],
          "name": "stdout"
        }
      ]
    },
    {
      "cell_type": "code",
      "metadata": {
        "id": "xLWvEEce9yY0",
        "colab_type": "code",
        "colab": {
          "base_uri": "https://localhost:8080/",
          "height": 201
        },
        "outputId": "69c66794-fd07-423d-c399-f5810970acc6"
      },
      "source": [
        "Y[:10]"
      ],
      "execution_count": null,
      "outputs": [
        {
          "output_type": "execute_result",
          "data": {
            "text/plain": [
              "array([[0, 0, 0, 0, 0, 0, 0, 0, 1, 0],\n",
              "       [0, 0, 0, 0, 0, 0, 0, 0, 1, 0],\n",
              "       [1, 0, 0, 0, 0, 0, 0, 0, 0, 0],\n",
              "       [0, 0, 0, 0, 0, 0, 0, 0, 1, 0],\n",
              "       [0, 1, 0, 0, 0, 0, 0, 0, 0, 0],\n",
              "       [0, 0, 0, 1, 0, 0, 0, 0, 0, 0],\n",
              "       [0, 0, 0, 0, 0, 1, 0, 0, 0, 0],\n",
              "       [0, 0, 1, 0, 0, 0, 0, 0, 0, 0],\n",
              "       [0, 0, 0, 0, 1, 0, 0, 0, 0, 0],\n",
              "       [1, 0, 0, 0, 0, 0, 0, 0, 0, 0]], dtype=uint8)"
            ]
          },
          "metadata": {
            "tags": []
          },
          "execution_count": 143
        }
      ]
    },
    {
      "cell_type": "markdown",
      "metadata": {
        "id": "Vnlgbsg2d8fy",
        "colab_type": "text"
      },
      "source": [
        "## Splitting the X and Y into training and validation datasets.\n",
        "\n",
        "We can manually split the data into training and validation sets but let's use the **Sci-kit Learn** Method ```train_test_split()``` to help us."
      ]
    },
    {
      "cell_type": "code",
      "metadata": {
        "id": "hGuosIGDU7xW",
        "colab_type": "code",
        "colab": {
          "base_uri": "https://localhost:8080/",
          "height": 54
        },
        "outputId": "3e423d82-8a08-4179-bc7e-23283bcbe408"
      },
      "source": [
        "X_train, X_val, Y_train, Y_val = train_test_split(X[:NUM_DATA],Y[:NUM_DATA], test_size = 0.10, random_state = 42)\n",
        "print(X_train.shape,Y_train.shape)\n",
        "print(X_val.shape,Y_val.shape)"
      ],
      "execution_count": null,
      "outputs": [
        {
          "output_type": "stream",
          "text": [
            "(90000, 1) (90000, 10)\n",
            "(10000, 1) (10000, 10)\n"
          ],
          "name": "stdout"
        }
      ]
    },
    {
      "cell_type": "markdown",
      "metadata": {
        "id": "qECtzQwAegSH",
        "colab_type": "text"
      },
      "source": [
        "## Scalling our Data\n",
        "\n",
        "We have to scale our data so our model could'not cheat. It will scale our numerical value between 0 ~ 1."
      ]
    },
    {
      "cell_type": "code",
      "metadata": {
        "id": "AR9d69pzgqxI",
        "colab_type": "code",
        "colab": {}
      },
      "source": [
        "# Instantiate Scaler\n",
        "scaler = MinMaxScaler()\n",
        "# Fit on train data\n",
        "scaler.fit(X_train)\n",
        "# Transform on train and validation data\n",
        "X_train = scaler.transform(X_train)\n",
        "X_val = scaler.transform(X_val)"
      ],
      "execution_count": null,
      "outputs": []
    },
    {
      "cell_type": "markdown",
      "metadata": {
        "id": "yHxJRtOEe6Hn",
        "colab_type": "text"
      },
      "source": [
        "## Creating a Model\n",
        "\n",
        "We use the Deep Learning **Recurrent Neural Network (RNN)** technique on our model.\n",
        "\n",
        "We can do it by using the Tensorflow Keras API."
      ]
    },
    {
      "cell_type": "markdown",
      "metadata": {
        "id": "VT1p56dWfdy1",
        "colab_type": "text"
      },
      "source": [
        "Build a model in a Sequential Order and add the required layers:\n",
        "\n",
        "* Create a Sequential Model\n",
        "* Add an Embedding Layer (Input Layer)\n",
        "* Add an SimpleRNN Layer (Hidden Layers)\n",
        "* Add a Dense Layer (Final Output Layer)\n",
        "\n",
        "Let's build it,"
      ]
    },
    {
      "cell_type": "code",
      "metadata": {
        "id": "6COVuSknVDfd",
        "colab_type": "code",
        "colab": {}
      },
      "source": [
        "model = Sequential()\n",
        "# Embedding Layer\n",
        "model.add(Embedding(MAX_NB_WORDS,EMBEDDING_DIM, input_length=X_train.shape[1]))\n",
        "# RNN Layer\n",
        "model.add(SimpleRNN(100))\n",
        "# Final Dense Layer  (using softmax for Multi-Class Classification Problem)\n",
        "model.add(Dense(10, activation='softmax'))\n",
        "\n",
        "# Finally Compile the Model\n",
        "model.compile(loss='categorical_crossentropy', # loss function for multi-classification\n",
        "              optimizer='adam') # optimizer\n",
        "\n",
        "# Number of Epochs\n",
        "epochs = 5\n",
        "# Batch size\n",
        "batch_size = 64"
      ],
      "execution_count": null,
      "outputs": []
    },
    {
      "cell_type": "markdown",
      "metadata": {
        "id": "VTHnkxdygezX",
        "colab_type": "text"
      },
      "source": [
        "If you are not sure what Epoc is, Its very simple. It means that how many times our model go through over the data during its training time."
      ]
    },
    {
      "cell_type": "markdown",
      "metadata": {
        "id": "EOuzXUoMfWL6",
        "colab_type": "text"
      },
      "source": [
        "Create an Early stopping to stop our training process if our model stops improving."
      ]
    },
    {
      "cell_type": "code",
      "metadata": {
        "id": "bG6Xsn5ScFU7",
        "colab_type": "code",
        "colab": {}
      },
      "source": [
        "early_stop = EarlyStopping(monitor='val_loss', patience=3,verbose=1)"
      ],
      "execution_count": null,
      "outputs": []
    },
    {
      "cell_type": "code",
      "metadata": {
        "id": "Ke1m8lXdY_LJ",
        "colab_type": "code",
        "colab": {
          "base_uri": "https://localhost:8080/",
          "height": 274
        },
        "outputId": "ee11ee1a-d7fc-477f-ff16-a43ec7e0a490"
      },
      "source": [
        "# Display the Layers Information of our model\n",
        "model.summary()"
      ],
      "execution_count": null,
      "outputs": [
        {
          "output_type": "stream",
          "text": [
            "Model: \"sequential_13\"\n",
            "_________________________________________________________________\n",
            "Layer (type)                 Output Shape              Param #   \n",
            "=================================================================\n",
            "embedding_13 (Embedding)     (None, 1, 100)            10000000  \n",
            "_________________________________________________________________\n",
            "simple_rnn (SimpleRNN)       (None, 100)               20100     \n",
            "_________________________________________________________________\n",
            "dense_13 (Dense)             (None, 10)                1010      \n",
            "=================================================================\n",
            "Total params: 10,021,110\n",
            "Trainable params: 10,021,110\n",
            "Non-trainable params: 0\n",
            "_________________________________________________________________\n"
          ],
          "name": "stdout"
        }
      ]
    },
    {
      "cell_type": "markdown",
      "metadata": {
        "id": "sbZd3U11kzCx",
        "colab_type": "text"
      },
      "source": [
        "Train our model with training datasets."
      ]
    },
    {
      "cell_type": "code",
      "metadata": {
        "id": "_rMcF8cJYW3Y",
        "colab_type": "code",
        "colab": {
          "base_uri": "https://localhost:8080/",
          "height": 201
        },
        "outputId": "549dab5f-46ea-4666-c6ce-10e756e0b048"
      },
      "source": [
        "history = model.fit(X_train, # Train data\n",
        "                    Y_train,\n",
        "                    epochs=epochs, # epochs\n",
        "                    batch_size=batch_size, # batch size\n",
        "                    validation_data=(X_val,Y_val), # validation data\n",
        "                    callbacks=[early_stop]) # callback"
      ],
      "execution_count": null,
      "outputs": [
        {
          "output_type": "stream",
          "text": [
            "Epoch 1/5\n",
            "1407/1407 [==============================] - 134s 95ms/step - loss: 1.8920 - val_loss: 2.0218\n",
            "Epoch 2/5\n",
            "1407/1407 [==============================] - 136s 97ms/step - loss: 1.8920 - val_loss: 1.9802\n",
            "Epoch 3/5\n",
            "1407/1407 [==============================] - 136s 97ms/step - loss: 1.8916 - val_loss: 1.9514\n",
            "Epoch 4/5\n",
            "1407/1407 [==============================] - 138s 98ms/step - loss: 1.8914 - val_loss: 1.9303\n",
            "Epoch 5/5\n",
            "1407/1407 [==============================] - 139s 98ms/step - loss: 1.8913 - val_loss: 1.9143\n"
          ],
          "name": "stdout"
        }
      ]
    },
    {
      "cell_type": "markdown",
      "metadata": {
        "id": "3cryanyRmyX6",
        "colab_type": "text"
      },
      "source": [
        "Great, we trained our model and get the **MultiClass Loss** Value 1.89. The more it smaller the more it better for us."
      ]
    },
    {
      "cell_type": "markdown",
      "metadata": {
        "id": "3t6EvD8VnK8M",
        "colab_type": "text"
      },
      "source": [
        "Let's Plot the losses to see the trend between train and validation loss using matplotlib."
      ]
    },
    {
      "cell_type": "code",
      "metadata": {
        "id": "XZc0EiZMHIy1",
        "colab_type": "code",
        "colab": {
          "base_uri": "https://localhost:8080/",
          "height": 281
        },
        "outputId": "4834c370-b523-4593-aaee-17db26aa1d36"
      },
      "source": [
        "plt.title('Loss')\n",
        "plt.plot(history.history['loss'], label='train')\n",
        "plt.plot(history.history['val_loss'], label='validation')\n",
        "plt.legend()\n",
        "plt.show();"
      ],
      "execution_count": null,
      "outputs": [
        {
          "output_type": "display_data",
          "data": {
            "image/png": "[encoded data removed]",
            "text/plain": [
              "<Figure size 432x288 with 1 Axes>"
            ]
          },
          "metadata": {
            "tags": [],
            "needs_background": "light"
          }
        }
      ]
    },
    {
      "cell_type": "markdown",
      "metadata": {
        "id": "NKCPnE5WnRrL",
        "colab_type": "text"
      },
      "source": [
        "It takes a lot of time to train the model let's create the helping functions for us to save and load the model mo we don't need to train again and again."
      ]
    },
    {
      "cell_type": "code",
      "metadata": {
        "id": "734-W3J-9O6k",
        "colab_type": "code",
        "colab": {}
      },
      "source": [
        "# defining the save model\n",
        "def save_model(model, suffix=None):\n",
        "  \"\"\"\n",
        "  Saves a given model in a models directory and appends a suffix (str)\n",
        "  for clarity and reuse.\n",
        "  \"\"\"\n",
        "  # Create model directory with current time\n",
        "  modeldir = os.path.join(\"/content/drive/My Drive/EventPrediction/models\",\n",
        "                          datetime.datetime.now().strftime(\"%Y%m%d-%H%M%s\"))\n",
        "  model_path = modeldir + \"-\" + suffix + \".h5\" # save format of model\n",
        "  print(f\"Saving model to: {model_path}...\")\n",
        "  model.save(model_path)\n",
        "  return model_path\n",
        "\n",
        "# defining the load model\n",
        "def load_model(model_path):\n",
        "  \"\"\"\n",
        "  Loads a saved model from a specified path.\n",
        "  \"\"\"\n",
        "  print(f\"Loading saved model from: {model_path}\")\n",
        "  model = tf.keras.models.load_model(model_path)\n",
        "  return model"
      ],
      "execution_count": null,
      "outputs": []
    },
    {
      "cell_type": "markdown",
      "metadata": {
        "id": "AAEIXSHENtAw",
        "colab_type": "text"
      },
      "source": [
        "**Note**: Please set the path where your want to save your model."
      ]
    },
    {
      "cell_type": "code",
      "metadata": {
        "id": "zqX2wNMm-9u3",
        "colab_type": "code",
        "colab": {
          "base_uri": "https://localhost:8080/",
          "height": 54
        },
        "outputId": "88babbba-e7ac-435d-81ec-a071c310fa79"
      },
      "source": [
        "# Save our trained model based on Full Data\n",
        "save_model(model, suffix=\"100,000-SimpleRNN-modelv1\")"
      ],
      "execution_count": null,
      "outputs": [
        {
          "output_type": "stream",
          "text": [
            "Saving model to: /content/drive/My Drive/EventPrediction/models/20200724-13481595598512-100,000-SimpleRNN-modelv1.h5...\n"
          ],
          "name": "stdout"
        },
        {
          "output_type": "execute_result",
          "data": {
            "application/vnd.google.colaboratory.intrinsic+json": {
              "type": "string"
            },
            "text/plain": [
              "'/content/drive/My Drive/EventPrediction/models/20200724-13481595598512-100,000-SimpleRNN-modelv1.h5'"
            ]
          },
          "metadata": {
            "tags": []
          },
          "execution_count": 165
        }
      ]
    },
    {
      "cell_type": "markdown",
      "metadata": {
        "id": "ULPOdP9dN1m2",
        "colab_type": "text"
      },
      "source": [
        "**Note**: Please set the path where your ```model``` is\n",
        "located if the cell below is giving an error. "
      ]
    },
    {
      "cell_type": "code",
      "metadata": {
        "id": "NCod_iwtxJ2E",
        "colab_type": "code",
        "colab": {
          "base_uri": "https://localhost:8080/",
          "height": 35
        },
        "outputId": "e8273ba6-ad24-410c-e928-03a8ce07f7a6"
      },
      "source": [
        "# load our saved trained model based on Full Data\n",
        "loaded_rnn_model = load_model('/content/drive/My Drive/EventPrediction/models/20200724-13481595598512-100,000-SimpleRNN-modelv1.h5')"
      ],
      "execution_count": null,
      "outputs": [
        {
          "output_type": "stream",
          "text": [
            "Loading saved model from: /content/drive/My Drive/EventPrediction/models/20200724-13481595598512-100,000-SimpleRNN-modelv1.h5\n"
          ],
          "name": "stdout"
        }
      ]
    },
    {
      "cell_type": "markdown",
      "metadata": {
        "id": "R1ejx3m2nzEi",
        "colab_type": "text"
      },
      "source": [
        "## Evaluation\n",
        "\n",
        "The statements,\n",
        "\n",
        ">The evaluation metric is Multiclass Log-loss. A lower score indicates better performance.\n"
      ]
    },
    {
      "cell_type": "code",
      "metadata": {
        "id": "9NFlQL8IFaCM",
        "colab_type": "code",
        "colab": {
          "base_uri": "https://localhost:8080/",
          "height": 72
        },
        "outputId": "a67d318d-561d-413a-a008-fb6d5fcb02be"
      },
      "source": [
        "# Evaluating the MultiClass Loss for Validation Model\n",
        "accr = model.evaluate(X_val,Y_val)\n",
        "print('Test set\\nMulti-Class Loss: {:.2f}'.format(accr))"
      ],
      "execution_count": null,
      "outputs": [
        {
          "output_type": "stream",
          "text": [
            "313/313 [==============================] - 1s 2ms/step - loss: 1.9143\n",
            "Test set\n",
            "Multi-Class Loss: 1.91\n"
          ],
          "name": "stdout"
        }
      ]
    },
    {
      "cell_type": "code",
      "metadata": {
        "id": "WbTBVNhGH2tZ",
        "colab_type": "code",
        "colab": {}
      },
      "source": [
        "# change events to numpy array\n",
        "events = df_tmp[\"event\"].to_numpy() # convert labels column to NumPy array"
      ],
      "execution_count": null,
      "outputs": []
    },
    {
      "cell_type": "code",
      "metadata": {
        "id": "_kIU44FqIH6t",
        "colab_type": "code",
        "colab": {
          "base_uri": "https://localhost:8080/",
          "height": 54
        },
        "outputId": "69b15eff-1618-4b22-fe4f-277eea08486d"
      },
      "source": [
        "# Find the unique label values\n",
        "unique_events = np.unique(events)\n",
        "unique_events"
      ],
      "execution_count": null,
      "outputs": [
        {
          "output_type": "execute_result",
          "data": {
            "text/plain": [
              "array([30018, 30021, 30024, 30027, 30039, 30042, 30045, 30048, 36003,\n",
              "       45003])"
            ]
          },
          "metadata": {
            "tags": []
          },
          "execution_count": 233
        }
      ]
    },
    {
      "cell_type": "markdown",
      "metadata": {
        "id": "KfM7e1MyoTUE",
        "colab_type": "text"
      },
      "source": [
        "Let's make some predictions."
      ]
    },
    {
      "cell_type": "code",
      "metadata": {
        "id": "Hk1lRv-UFun1",
        "colab_type": "code",
        "colab": {}
      },
      "source": [
        "preds = model.predict(X_val) # Predicted Values\n",
        "true_preds = Y_val # True Values"
      ],
      "execution_count": null,
      "outputs": []
    },
    {
      "cell_type": "code",
      "metadata": {
        "id": "Cp1X0LIrKvKz",
        "colab_type": "code",
        "colab": {
          "base_uri": "https://localhost:8080/",
          "height": 54
        },
        "outputId": "7b96b676-ef31-4f0e-db76-dbac945d76dd"
      },
      "source": [
        "print(\"Predicted Event: \",unique_events[np.argmax(predictions[0])])\n",
        "\n",
        "print(\"Actual Event: \",unique_events[np.argmax(true_preds[0])])"
      ],
      "execution_count": null,
      "outputs": [
        {
          "output_type": "stream",
          "text": [
            "Predicted Event:  30021\n",
            "Actual Event:  30024\n"
          ],
          "name": "stdout"
        }
      ]
    },
    {
      "cell_type": "markdown",
      "metadata": {
        "id": "fhb6p-n7oeun",
        "colab_type": "text"
      },
      "source": [
        "## Tuning the Model\n",
        "Let's try to improve the model to train on different model and tune the hyperparameter to improve our loss."
      ]
    },
    {
      "cell_type": "markdown",
      "metadata": {
        "id": "U-mG2Wc4TNti",
        "colab_type": "text"
      },
      "source": [
        "![Spatial Dropout](https://i.stack.imgur.com/JhWOk.jpg)"
      ]
    },
    {
      "cell_type": "code",
      "metadata": {
        "id": "WKh8no_GL05G",
        "colab_type": "code",
        "colab": {
          "base_uri": "https://localhost:8080/",
          "height": 55
        },
        "outputId": "9ccbe10b-263e-472f-ba9e-dec051713cb3"
      },
      "source": [
        "# Add a Sequention Model\n",
        "model = Sequential()\n",
        "# Embedded layer\n",
        "model.add(Embedding(MAX_NB_WORDS,EMBEDDING_DIM, input_length=X_train.shape[1]))\n",
        "# Sapatial Dropout\n",
        "model.add(SpatialDropout1D(0.2))\n",
        "# LSTM NN Layer\n",
        "model.add(LSTM(100, dropout=0.2, recurrent_dropout=0.2))\n",
        "# Final output layer\n",
        "model.add(Dense(10, activation='softmax')) # using the softmax for multiclass classification\n",
        "\n",
        "model.compile(loss='categorical_crossentropy', # using the categorical_crossentropy for multiclass classification\n",
        "              optimizer='adam')\n",
        "\n",
        "epochs = 5 # Epocs\n",
        "batch_size = 64 # Batch size"
      ],
      "execution_count": null,
      "outputs": [
        {
          "output_type": "stream",
          "text": [
            "WARNING:tensorflow:Layer lstm_13 will not use cuDNN kernel since it doesn't meet the cuDNN kernel criteria. It will use generic GPU kernel as fallback when running on GPU\n"
          ],
          "name": "stdout"
        }
      ]
    },
    {
      "cell_type": "code",
      "metadata": {
        "id": "WjJGodc_QxBi",
        "colab_type": "code",
        "colab": {
          "base_uri": "https://localhost:8080/",
          "height": 311
        },
        "outputId": "ccc2f580-0b63-458b-f9bb-4202f1fa45f2"
      },
      "source": [
        "model.summary()"
      ],
      "execution_count": null,
      "outputs": [
        {
          "output_type": "stream",
          "text": [
            "Model: \"sequential_14\"\n",
            "_________________________________________________________________\n",
            "Layer (type)                 Output Shape              Param #   \n",
            "=================================================================\n",
            "embedding_14 (Embedding)     (None, 1, 100)            10000000  \n",
            "_________________________________________________________________\n",
            "spatial_dropout1d_11 (Spatia (None, 1, 100)            0         \n",
            "_________________________________________________________________\n",
            "lstm_13 (LSTM)               (None, 100)               80400     \n",
            "_________________________________________________________________\n",
            "dense_14 (Dense)             (None, 10)                1010      \n",
            "=================================================================\n",
            "Total params: 10,081,410\n",
            "Trainable params: 10,081,410\n",
            "Non-trainable params: 0\n",
            "_________________________________________________________________\n"
          ],
          "name": "stdout"
        }
      ]
    },
    {
      "cell_type": "code",
      "metadata": {
        "id": "6cp9V2DCQymq",
        "colab_type": "code",
        "colab": {
          "base_uri": "https://localhost:8080/",
          "height": 201
        },
        "outputId": "d0572408-a08d-48ec-eb0f-17790bf04472"
      },
      "source": [
        "history = model.fit(X_train, # Train data\n",
        "                    Y_train,\n",
        "                    epochs=epochs, #Epochs\n",
        "                    batch_size=batch_size, # Batch size\n",
        "                    validation_data=(X_val,Y_val), # Validation data\n",
        "                    callbacks=[early_stop]) # Early stop callback"
      ],
      "execution_count": null,
      "outputs": [
        {
          "output_type": "stream",
          "text": [
            "Epoch 1/5\n",
            "1407/1407 [==============================] - 147s 104ms/step - loss: 1.9031 - val_loss: 2.1466\n",
            "Epoch 2/5\n",
            "1407/1407 [==============================] - 145s 103ms/step - loss: 1.8925 - val_loss: 2.0941\n",
            "Epoch 3/5\n",
            "1407/1407 [==============================] - 143s 102ms/step - loss: 1.8919 - val_loss: 2.0560\n",
            "Epoch 4/5\n",
            "1407/1407 [==============================] - 142s 101ms/step - loss: 1.8919 - val_loss: 2.0173\n",
            "Epoch 5/5\n",
            "1407/1407 [==============================] - 142s 101ms/step - loss: 1.8915 - val_loss: 1.9916\n"
          ],
          "name": "stdout"
        }
      ]
    },
    {
      "cell_type": "code",
      "metadata": {
        "id": "Sp2aPSBcQ4Tl",
        "colab_type": "code",
        "colab": {
          "base_uri": "https://localhost:8080/",
          "height": 54
        },
        "outputId": "e3ce4f8a-f944-4c61-cf50-893ac3aa98c7"
      },
      "source": [
        "# Save our trained model based on Full Data\n",
        "save_model(model, suffix=\"100,000-LSTM-modelv1\")"
      ],
      "execution_count": null,
      "outputs": [
        {
          "output_type": "stream",
          "text": [
            "Saving model to: /content/drive/My Drive/EventPrediction/models/20200724-15501595605811-100,000-LSTM-modelv1.h5...\n"
          ],
          "name": "stdout"
        },
        {
          "output_type": "execute_result",
          "data": {
            "application/vnd.google.colaboratory.intrinsic+json": {
              "type": "string"
            },
            "text/plain": [
              "'/content/drive/My Drive/EventPrediction/models/20200724-15501595605811-100,000-LSTM-modelv1.h5'"
            ]
          },
          "metadata": {
            "tags": []
          },
          "execution_count": 257
        }
      ]
    },
    {
      "cell_type": "code",
      "metadata": {
        "id": "TZJRsyw1hHt7",
        "colab_type": "code",
        "colab": {
          "base_uri": "https://localhost:8080/",
          "height": 74
        },
        "outputId": "ac4d2a8f-f988-4ea0-ce58-224553b7360e"
      },
      "source": [
        "# load our trained model based on Full Data\n",
        "loaded_lstm_model = load_model('/content/drive/My Drive/EventPrediction/models/20200724-15501595605811-100,000-LSTM-modelv1.h5')"
      ],
      "execution_count": null,
      "outputs": [
        {
          "output_type": "stream",
          "text": [
            "Loading saved model from: /content/drive/My Drive/EventPrediction/models/20200724-15501595605811-100,000-LSTM-modelv1.h5\n",
            "WARNING:tensorflow:Layer lstm_13 will not use cuDNN kernel since it doesn't meet the cuDNN kernel criteria. It will use generic GPU kernel as fallback when running on GPU\n"
          ],
          "name": "stdout"
        }
      ]
    },
    {
      "cell_type": "markdown",
      "metadata": {
        "id": "BlQcanQuNBIl",
        "colab_type": "text"
      },
      "source": [
        "Let's Plot the losses to see the trend between train and validation loss using matplotlib."
      ]
    },
    {
      "cell_type": "code",
      "metadata": {
        "id": "tU0djBLfpnsI",
        "colab_type": "code",
        "colab": {
          "base_uri": "https://localhost:8080/",
          "height": 281
        },
        "outputId": "e1ab8f5b-a07d-4504-bb6a-ea9ca982c360"
      },
      "source": [
        "plt.title('Loss')\n",
        "plt.plot(history.history['loss'], label='train')\n",
        "plt.plot(history.history['val_loss'], label='validation')\n",
        "plt.legend()\n",
        "plt.show();"
      ],
      "execution_count": null,
      "outputs": [
        {
          "output_type": "display_data",
          "data": {
            "image/png": "[encoded data removed]",
            "text/plain": [
              "<Figure size 432x288 with 1 Axes>"
            ]
          },
          "metadata": {
            "tags": [],
            "needs_background": "light"
          }
        }
      ]
    },
    {
      "cell_type": "markdown",
      "metadata": {
        "id": "yAhNL9lOp9sb",
        "colab_type": "text"
      },
      "source": [
        "Not improved because the data is not related and have very less features so we stick with this score 1.89."
      ]
    },
    {
      "cell_type": "markdown",
      "metadata": {
        "id": "ZPo926acqi4n",
        "colab_type": "text"
      },
      "source": [
        "## Testing\n",
        "\n",
        "**Note**: Please set the path where your ```test.csv``` is\n",
        "located if the cell below is giving an error. "
      ]
    },
    {
      "cell_type": "code",
      "metadata": {
        "id": "v7x9Sv6Ip0Y4",
        "colab_type": "code",
        "colab": {}
      },
      "source": [
        "# reading the tese.csv file into the Dataframe\n",
        "test_df = pd.read_csv('/content/drive/My Drive/EventPrediction/test.csv')"
      ],
      "execution_count": null,
      "outputs": []
    },
    {
      "cell_type": "code",
      "metadata": {
        "id": "jTRz4pqMqrqW",
        "colab_type": "code",
        "colab": {
          "base_uri": "https://localhost:8080/",
          "height": 206
        },
        "outputId": "ba64cdab-f434-4ec2-ec54-6512548fa2f8"
      },
      "source": [
        "test_df.head()"
      ],
      "execution_count": null,
      "outputs": [
        {
          "output_type": "execute_result",
          "data": {
            "text/html": [
              "<div>\n",
              "<style scoped>\n",
              "    .dataframe tbody tr th:only-of-type {\n",
              "        vertical-align: middle;\n",
              "    }\n",
              "\n",
              "    .dataframe tbody tr th {\n",
              "        vertical-align: top;\n",
              "    }\n",
              "\n",
              "    .dataframe thead th {\n",
              "        text-align: right;\n",
              "    }\n",
              "</style>\n",
              "<table border=\"1\" class=\"dataframe\">\n",
              "  <thead>\n",
              "    <tr style=\"text-align: right;\">\n",
              "      <th></th>\n",
              "      <th>id</th>\n",
              "    </tr>\n",
              "  </thead>\n",
              "  <tbody>\n",
              "    <tr>\n",
              "      <th>0</th>\n",
              "      <td>0001da55d168196bf25f06a497b5cf414126542f4d357d...</td>\n",
              "    </tr>\n",
              "    <tr>\n",
              "      <th>1</th>\n",
              "      <td>00024eca1053d4268df5c6d3308f0d008cf5e2678c443f...</td>\n",
              "    </tr>\n",
              "    <tr>\n",
              "      <th>2</th>\n",
              "      <td>000273e55809afd4a9ac4fb9175effe5d0ea449ed37e7c...</td>\n",
              "    </tr>\n",
              "    <tr>\n",
              "      <th>3</th>\n",
              "      <td>0002bd1d73c326ad6e337a5687f6787b055f13079d5c52...</td>\n",
              "    </tr>\n",
              "    <tr>\n",
              "      <th>4</th>\n",
              "      <td>00030b6d5b8013bcb9bb23a9bccf394d7b361a01d0d6b7...</td>\n",
              "    </tr>\n",
              "  </tbody>\n",
              "</table>\n",
              "</div>"
            ],
            "text/plain": [
              "                                                  id\n",
              "0  0001da55d168196bf25f06a497b5cf414126542f4d357d...\n",
              "1  00024eca1053d4268df5c6d3308f0d008cf5e2678c443f...\n",
              "2  000273e55809afd4a9ac4fb9175effe5d0ea449ed37e7c...\n",
              "3  0002bd1d73c326ad6e337a5687f6787b055f13079d5c52...\n",
              "4  00030b6d5b8013bcb9bb23a9bccf394d7b361a01d0d6b7..."
            ]
          },
          "metadata": {
            "tags": []
          },
          "execution_count": 264
        }
      ]
    },
    {
      "cell_type": "markdown",
      "metadata": {
        "id": "QP9SQ4SLqzKd",
        "colab_type": "text"
      },
      "source": [
        "So, we have and ```id``` column which is in string. Let's make a helper function to preprocess our data same as we done it before to train our model."
      ]
    },
    {
      "cell_type": "code",
      "metadata": {
        "id": "hG2vm7xzqwk0",
        "colab_type": "code",
        "colab": {}
      },
      "source": [
        "def preprocess_data(df, num_data=None):\n",
        "  \"\"\"\n",
        "  A simple function which convert id columns to number sequence\n",
        "  \"\"\"\n",
        "  if num_data == None:\n",
        "    num_data = len(df)\n",
        "  df_tmp = df[:num_data]\n",
        "  # The maximum number of words to be used. (most frequent)\n",
        "  MAX_NB_WORDS = 100000\n",
        "\n",
        "  # Instantiate our tokenizer\n",
        "  tokenizer = tf.keras.preprocessing.text.Tokenizer(num_words=MAX_NB_WORDS)\n",
        "  # Fitting it on our id\n",
        "  tokenizer.fit_on_texts(df_tmp['id'].values)\n",
        "  # Finding the number words\n",
        "  word_index = tokenizer.word_index\n",
        "  # Change text to sequences\n",
        "  encoded_id = tokenizer.texts_to_sequences(df_tmp['id'].values)\n",
        "  # padding sequences\n",
        "  encoded_id = tf.keras.preprocessing.sequence.pad_sequences(encoded_id)\n",
        "  return encoded_id"
      ],
      "execution_count": null,
      "outputs": []
    },
    {
      "cell_type": "code",
      "metadata": {
        "id": "R8oEv8yazVV8",
        "colab_type": "code",
        "colab": {}
      },
      "source": [
        "X_test = preprocess_data(test_df)"
      ],
      "execution_count": null,
      "outputs": []
    },
    {
      "cell_type": "code",
      "metadata": {
        "id": "WGQKboEtz8fV",
        "colab_type": "code",
        "colab": {
          "base_uri": "https://localhost:8080/",
          "height": 201
        },
        "outputId": "77a8a093-0d9e-4778-dd98-fbfb8435ce47"
      },
      "source": [
        "X_test[:10]"
      ],
      "execution_count": null,
      "outputs": [
        {
          "output_type": "execute_result",
          "data": {
            "text/plain": [
              "array([[ 1],\n",
              "       [ 2],\n",
              "       [ 3],\n",
              "       [ 4],\n",
              "       [ 5],\n",
              "       [ 6],\n",
              "       [ 7],\n",
              "       [ 8],\n",
              "       [ 9],\n",
              "       [10]], dtype=int32)"
            ]
          },
          "metadata": {
            "tags": []
          },
          "execution_count": 276
        }
      ]
    },
    {
      "cell_type": "markdown",
      "metadata": {
        "id": "i4pv2lS50J-O",
        "colab_type": "text"
      },
      "source": [
        "Let's makes some predictions"
      ]
    },
    {
      "cell_type": "code",
      "metadata": {
        "id": "2NmRt86xz_SB",
        "colab_type": "code",
        "colab": {}
      },
      "source": [
        "predictions = loaded_rnn_model.predict(X_test)"
      ],
      "execution_count": null,
      "outputs": []
    },
    {
      "cell_type": "code",
      "metadata": {
        "id": "45D3KLx30b3i",
        "colab_type": "code",
        "colab": {
          "base_uri": "https://localhost:8080/",
          "height": 403
        },
        "outputId": "b438d007-eceb-4760-b640-df271ae81396"
      },
      "source": [
        "predictions[:10]"
      ],
      "execution_count": null,
      "outputs": [
        {
          "output_type": "execute_result",
          "data": {
            "text/plain": [
              "array([[0.22358243, 0.24370061, 0.10140859, 0.08916586, 0.03770697,\n",
              "        0.03349097, 0.00830176, 0.0035798 , 0.24032682, 0.0187362 ],\n",
              "       [0.19767581, 0.20190915, 0.10460997, 0.10484879, 0.05958105,\n",
              "        0.05401779, 0.02396404, 0.0154005 , 0.20107365, 0.03691924],\n",
              "       [0.20082964, 0.20777397, 0.10216384, 0.10215017, 0.05625179,\n",
              "        0.05403346, 0.02209961, 0.01223978, 0.20780057, 0.03465723],\n",
              "       [0.20142159, 0.21113177, 0.10485921, 0.10220353, 0.05578636,\n",
              "        0.05028578, 0.02107717, 0.01316829, 0.20708248, 0.03298377],\n",
              "       [0.20102775, 0.20209543, 0.10516629, 0.10263883, 0.05712081,\n",
              "        0.05719672, 0.02357156, 0.0133609 , 0.20164736, 0.03617441],\n",
              "       [0.19917983, 0.20490351, 0.10410406, 0.10286229, 0.05848415,\n",
              "        0.05497725, 0.02282517, 0.01427198, 0.20191336, 0.03647841],\n",
              "       [0.19560139, 0.20321597, 0.10674561, 0.10440515, 0.05958178,\n",
              "        0.0562414 , 0.02300559, 0.0153242 , 0.19814712, 0.03773185],\n",
              "       [0.19292329, 0.19803753, 0.10753435, 0.10350564, 0.06212394,\n",
              "        0.05769339, 0.02609297, 0.01590774, 0.19569652, 0.04048463],\n",
              "       [0.1988499 , 0.20801865, 0.10402657, 0.10351045, 0.05735025,\n",
              "        0.05308656, 0.02181729, 0.0135598 , 0.20416318, 0.03561737],\n",
              "       [0.18734771, 0.19225143, 0.10800157, 0.10552204, 0.06450772,\n",
              "        0.06255454, 0.02840226, 0.01796063, 0.19252898, 0.04092313]],\n",
              "      dtype=float32)"
            ]
          },
          "metadata": {
            "tags": []
          },
          "execution_count": 278
        }
      ]
    },
    {
      "cell_type": "markdown",
      "metadata": {
        "id": "ejYqGUGa1LZq",
        "colab_type": "text"
      },
      "source": [
        "Let's put these predictions in the dataframe."
      ]
    },
    {
      "cell_type": "code",
      "metadata": {
        "id": "agZFWCv32Eus",
        "colab_type": "code",
        "colab": {}
      },
      "source": [
        "column_names = ['\"event_' + str(name) + '\"' for name in unique_events]"
      ],
      "execution_count": null,
      "outputs": []
    },
    {
      "cell_type": "code",
      "metadata": {
        "id": "du6tbxaV1ftn",
        "colab_type": "code",
        "colab": {
          "base_uri": "https://localhost:8080/",
          "height": 444
        },
        "outputId": "70c428e2-c3ed-4bc6-8eff-1bda5a836113"
      },
      "source": [
        "submission = pd.DataFrame(test_df['id'], columns=['id'] +  list(column_names))\n",
        "submission"
      ],
      "execution_count": null,
      "outputs": [
        {
          "output_type": "execute_result",
          "data": {
            "text/html": [
              "<div>\n",
              "<style scoped>\n",
              "    .dataframe tbody tr th:only-of-type {\n",
              "        vertical-align: middle;\n",
              "    }\n",
              "\n",
              "    .dataframe tbody tr th {\n",
              "        vertical-align: top;\n",
              "    }\n",
              "\n",
              "    .dataframe thead th {\n",
              "        text-align: right;\n",
              "    }\n",
              "</style>\n",
              "<table border=\"1\" class=\"dataframe\">\n",
              "  <thead>\n",
              "    <tr style=\"text-align: right;\">\n",
              "      <th></th>\n",
              "      <th>id</th>\n",
              "      <th>\"event_30018\"</th>\n",
              "      <th>\"event_30021\"</th>\n",
              "      <th>\"event_30024\"</th>\n",
              "      <th>\"event_30027\"</th>\n",
              "      <th>\"event_30039\"</th>\n",
              "      <th>\"event_30042\"</th>\n",
              "      <th>\"event_30045\"</th>\n",
              "      <th>\"event_30048\"</th>\n",
              "      <th>\"event_36003\"</th>\n",
              "      <th>\"event_45003\"</th>\n",
              "    </tr>\n",
              "  </thead>\n",
              "  <tbody>\n",
              "    <tr>\n",
              "      <th>0</th>\n",
              "      <td>0001da55d168196bf25f06a497b5cf414126542f4d357d...</td>\n",
              "      <td>NaN</td>\n",
              "      <td>NaN</td>\n",
              "      <td>NaN</td>\n",
              "      <td>NaN</td>\n",
              "      <td>NaN</td>\n",
              "      <td>NaN</td>\n",
              "      <td>NaN</td>\n",
              "      <td>NaN</td>\n",
              "      <td>NaN</td>\n",
              "      <td>NaN</td>\n",
              "    </tr>\n",
              "    <tr>\n",
              "      <th>1</th>\n",
              "      <td>00024eca1053d4268df5c6d3308f0d008cf5e2678c443f...</td>\n",
              "      <td>NaN</td>\n",
              "      <td>NaN</td>\n",
              "      <td>NaN</td>\n",
              "      <td>NaN</td>\n",
              "      <td>NaN</td>\n",
              "      <td>NaN</td>\n",
              "      <td>NaN</td>\n",
              "      <td>NaN</td>\n",
              "      <td>NaN</td>\n",
              "      <td>NaN</td>\n",
              "    </tr>\n",
              "    <tr>\n",
              "      <th>2</th>\n",
              "      <td>000273e55809afd4a9ac4fb9175effe5d0ea449ed37e7c...</td>\n",
              "      <td>NaN</td>\n",
              "      <td>NaN</td>\n",
              "      <td>NaN</td>\n",
              "      <td>NaN</td>\n",
              "      <td>NaN</td>\n",
              "      <td>NaN</td>\n",
              "      <td>NaN</td>\n",
              "      <td>NaN</td>\n",
              "      <td>NaN</td>\n",
              "      <td>NaN</td>\n",
              "    </tr>\n",
              "    <tr>\n",
              "      <th>3</th>\n",
              "      <td>0002bd1d73c326ad6e337a5687f6787b055f13079d5c52...</td>\n",
              "      <td>NaN</td>\n",
              "      <td>NaN</td>\n",
              "      <td>NaN</td>\n",
              "      <td>NaN</td>\n",
              "      <td>NaN</td>\n",
              "      <td>NaN</td>\n",
              "      <td>NaN</td>\n",
              "      <td>NaN</td>\n",
              "      <td>NaN</td>\n",
              "      <td>NaN</td>\n",
              "    </tr>\n",
              "    <tr>\n",
              "      <th>4</th>\n",
              "      <td>00030b6d5b8013bcb9bb23a9bccf394d7b361a01d0d6b7...</td>\n",
              "      <td>NaN</td>\n",
              "      <td>NaN</td>\n",
              "      <td>NaN</td>\n",
              "      <td>NaN</td>\n",
              "      <td>NaN</td>\n",
              "      <td>NaN</td>\n",
              "      <td>NaN</td>\n",
              "      <td>NaN</td>\n",
              "      <td>NaN</td>\n",
              "      <td>NaN</td>\n",
              "    </tr>\n",
              "    <tr>\n",
              "      <th>...</th>\n",
              "      <td>...</td>\n",
              "      <td>...</td>\n",
              "      <td>...</td>\n",
              "      <td>...</td>\n",
              "      <td>...</td>\n",
              "      <td>...</td>\n",
              "      <td>...</td>\n",
              "      <td>...</td>\n",
              "      <td>...</td>\n",
              "      <td>...</td>\n",
              "      <td>...</td>\n",
              "    </tr>\n",
              "    <tr>\n",
              "      <th>100865</th>\n",
              "      <td>fffdc36a3362aea6217598bcd05dad12fe425709af0837...</td>\n",
              "      <td>NaN</td>\n",
              "      <td>NaN</td>\n",
              "      <td>NaN</td>\n",
              "      <td>NaN</td>\n",
              "      <td>NaN</td>\n",
              "      <td>NaN</td>\n",
              "      <td>NaN</td>\n",
              "      <td>NaN</td>\n",
              "      <td>NaN</td>\n",
              "      <td>NaN</td>\n",
              "    </tr>\n",
              "    <tr>\n",
              "      <th>100866</th>\n",
              "      <td>fffe08c56ff7b96b2c6602ddf2ffdd7ef151ae42836f14...</td>\n",
              "      <td>NaN</td>\n",
              "      <td>NaN</td>\n",
              "      <td>NaN</td>\n",
              "      <td>NaN</td>\n",
              "      <td>NaN</td>\n",
              "      <td>NaN</td>\n",
              "      <td>NaN</td>\n",
              "      <td>NaN</td>\n",
              "      <td>NaN</td>\n",
              "      <td>NaN</td>\n",
              "    </tr>\n",
              "    <tr>\n",
              "      <th>100867</th>\n",
              "      <td>fffec7db7e3ef648450cef467d8c5e6ca29f2f70cb1b92...</td>\n",
              "      <td>NaN</td>\n",
              "      <td>NaN</td>\n",
              "      <td>NaN</td>\n",
              "      <td>NaN</td>\n",
              "      <td>NaN</td>\n",
              "      <td>NaN</td>\n",
              "      <td>NaN</td>\n",
              "      <td>NaN</td>\n",
              "      <td>NaN</td>\n",
              "      <td>NaN</td>\n",
              "    </tr>\n",
              "    <tr>\n",
              "      <th>100868</th>\n",
              "      <td>ffff88c2041f637a2ab5f100c3a614a742f4d5956819c6...</td>\n",
              "      <td>NaN</td>\n",
              "      <td>NaN</td>\n",
              "      <td>NaN</td>\n",
              "      <td>NaN</td>\n",
              "      <td>NaN</td>\n",
              "      <td>NaN</td>\n",
              "      <td>NaN</td>\n",
              "      <td>NaN</td>\n",
              "      <td>NaN</td>\n",
              "      <td>NaN</td>\n",
              "    </tr>\n",
              "    <tr>\n",
              "      <th>100869</th>\n",
              "      <td>ffffef602fe218bd6b257abbbc9368d047488eea5a8135...</td>\n",
              "      <td>NaN</td>\n",
              "      <td>NaN</td>\n",
              "      <td>NaN</td>\n",
              "      <td>NaN</td>\n",
              "      <td>NaN</td>\n",
              "      <td>NaN</td>\n",
              "      <td>NaN</td>\n",
              "      <td>NaN</td>\n",
              "      <td>NaN</td>\n",
              "      <td>NaN</td>\n",
              "    </tr>\n",
              "  </tbody>\n",
              "</table>\n",
              "<p>100870 rows × 11 columns</p>\n",
              "</div>"
            ],
            "text/plain": [
              "                                                       id  ... \"event_45003\"\n",
              "0       0001da55d168196bf25f06a497b5cf414126542f4d357d...  ...           NaN\n",
              "1       00024eca1053d4268df5c6d3308f0d008cf5e2678c443f...  ...           NaN\n",
              "2       000273e55809afd4a9ac4fb9175effe5d0ea449ed37e7c...  ...           NaN\n",
              "3       0002bd1d73c326ad6e337a5687f6787b055f13079d5c52...  ...           NaN\n",
              "4       00030b6d5b8013bcb9bb23a9bccf394d7b361a01d0d6b7...  ...           NaN\n",
              "...                                                   ...  ...           ...\n",
              "100865  fffdc36a3362aea6217598bcd05dad12fe425709af0837...  ...           NaN\n",
              "100866  fffe08c56ff7b96b2c6602ddf2ffdd7ef151ae42836f14...  ...           NaN\n",
              "100867  fffec7db7e3ef648450cef467d8c5e6ca29f2f70cb1b92...  ...           NaN\n",
              "100868  ffff88c2041f637a2ab5f100c3a614a742f4d5956819c6...  ...           NaN\n",
              "100869  ffffef602fe218bd6b257abbbc9368d047488eea5a8135...  ...           NaN\n",
              "\n",
              "[100870 rows x 11 columns]"
            ]
          },
          "metadata": {
            "tags": []
          },
          "execution_count": 314
        }
      ]
    },
    {
      "cell_type": "code",
      "metadata": {
        "id": "5MHsi7aj3E2H",
        "colab_type": "code",
        "colab": {}
      },
      "source": [
        "submission[column_names] = predictions"
      ],
      "execution_count": null,
      "outputs": []
    },
    {
      "cell_type": "code",
      "metadata": {
        "id": "rAt7_SPh3kYP",
        "colab_type": "code",
        "colab": {
          "base_uri": "https://localhost:8080/",
          "height": 226
        },
        "outputId": "a9deee2a-04a9-46b0-a15a-1e42aa7fc958"
      },
      "source": [
        "submission.head()"
      ],
      "execution_count": null,
      "outputs": [
        {
          "output_type": "execute_result",
          "data": {
            "text/html": [
              "<div>\n",
              "<style scoped>\n",
              "    .dataframe tbody tr th:only-of-type {\n",
              "        vertical-align: middle;\n",
              "    }\n",
              "\n",
              "    .dataframe tbody tr th {\n",
              "        vertical-align: top;\n",
              "    }\n",
              "\n",
              "    .dataframe thead th {\n",
              "        text-align: right;\n",
              "    }\n",
              "</style>\n",
              "<table border=\"1\" class=\"dataframe\">\n",
              "  <thead>\n",
              "    <tr style=\"text-align: right;\">\n",
              "      <th></th>\n",
              "      <th>id</th>\n",
              "      <th>\"event_30018\"</th>\n",
              "      <th>\"event_30021\"</th>\n",
              "      <th>\"event_30024\"</th>\n",
              "      <th>\"event_30027\"</th>\n",
              "      <th>\"event_30039\"</th>\n",
              "      <th>\"event_30042\"</th>\n",
              "      <th>\"event_30045\"</th>\n",
              "      <th>\"event_30048\"</th>\n",
              "      <th>\"event_36003\"</th>\n",
              "      <th>\"event_45003\"</th>\n",
              "    </tr>\n",
              "  </thead>\n",
              "  <tbody>\n",
              "    <tr>\n",
              "      <th>0</th>\n",
              "      <td>0001da55d168196bf25f06a497b5cf414126542f4d357d...</td>\n",
              "      <td>0.223582</td>\n",
              "      <td>0.243701</td>\n",
              "      <td>0.101409</td>\n",
              "      <td>0.0891659</td>\n",
              "      <td>0.037707</td>\n",
              "      <td>0.033491</td>\n",
              "      <td>0.00830176</td>\n",
              "      <td>0.0035798</td>\n",
              "      <td>0.240327</td>\n",
              "      <td>0.0187362</td>\n",
              "    </tr>\n",
              "    <tr>\n",
              "      <th>1</th>\n",
              "      <td>00024eca1053d4268df5c6d3308f0d008cf5e2678c443f...</td>\n",
              "      <td>0.197676</td>\n",
              "      <td>0.201909</td>\n",
              "      <td>0.10461</td>\n",
              "      <td>0.104849</td>\n",
              "      <td>0.059581</td>\n",
              "      <td>0.0540178</td>\n",
              "      <td>0.023964</td>\n",
              "      <td>0.0154005</td>\n",
              "      <td>0.201074</td>\n",
              "      <td>0.0369192</td>\n",
              "    </tr>\n",
              "    <tr>\n",
              "      <th>2</th>\n",
              "      <td>000273e55809afd4a9ac4fb9175effe5d0ea449ed37e7c...</td>\n",
              "      <td>0.20083</td>\n",
              "      <td>0.207774</td>\n",
              "      <td>0.102164</td>\n",
              "      <td>0.10215</td>\n",
              "      <td>0.0562518</td>\n",
              "      <td>0.0540335</td>\n",
              "      <td>0.0220996</td>\n",
              "      <td>0.0122398</td>\n",
              "      <td>0.207801</td>\n",
              "      <td>0.0346572</td>\n",
              "    </tr>\n",
              "    <tr>\n",
              "      <th>3</th>\n",
              "      <td>0002bd1d73c326ad6e337a5687f6787b055f13079d5c52...</td>\n",
              "      <td>0.201422</td>\n",
              "      <td>0.211132</td>\n",
              "      <td>0.104859</td>\n",
              "      <td>0.102204</td>\n",
              "      <td>0.0557864</td>\n",
              "      <td>0.0502858</td>\n",
              "      <td>0.0210772</td>\n",
              "      <td>0.0131683</td>\n",
              "      <td>0.207082</td>\n",
              "      <td>0.0329838</td>\n",
              "    </tr>\n",
              "    <tr>\n",
              "      <th>4</th>\n",
              "      <td>00030b6d5b8013bcb9bb23a9bccf394d7b361a01d0d6b7...</td>\n",
              "      <td>0.201028</td>\n",
              "      <td>0.202095</td>\n",
              "      <td>0.105166</td>\n",
              "      <td>0.102639</td>\n",
              "      <td>0.0571208</td>\n",
              "      <td>0.0571967</td>\n",
              "      <td>0.0235716</td>\n",
              "      <td>0.0133609</td>\n",
              "      <td>0.201647</td>\n",
              "      <td>0.0361744</td>\n",
              "    </tr>\n",
              "  </tbody>\n",
              "</table>\n",
              "</div>"
            ],
            "text/plain": [
              "                                                  id  ... \"event_45003\"\n",
              "0  0001da55d168196bf25f06a497b5cf414126542f4d357d...  ...     0.0187362\n",
              "1  00024eca1053d4268df5c6d3308f0d008cf5e2678c443f...  ...     0.0369192\n",
              "2  000273e55809afd4a9ac4fb9175effe5d0ea449ed37e7c...  ...     0.0346572\n",
              "3  0002bd1d73c326ad6e337a5687f6787b055f13079d5c52...  ...     0.0329838\n",
              "4  00030b6d5b8013bcb9bb23a9bccf394d7b361a01d0d6b7...  ...     0.0361744\n",
              "\n",
              "[5 rows x 11 columns]"
            ]
          },
          "metadata": {
            "tags": []
          },
          "execution_count": 316
        }
      ]
    },
    {
      "cell_type": "markdown",
      "metadata": {
        "id": "iY-I3SAqNkJi",
        "colab_type": "text"
      },
      "source": [
        "**Note**: Please set the path where your want to save your ```submission.csv```"
      ]
    },
    {
      "cell_type": "code",
      "metadata": {
        "id": "jSRn88w46OF8",
        "colab_type": "code",
        "colab": {}
      },
      "source": [
        "submission.to_csv('/content/drive/My Drive/EventPrediction/submission/submission.csv',index=False)"
      ],
      "execution_count": null,
      "outputs": []
    }
  ]
}